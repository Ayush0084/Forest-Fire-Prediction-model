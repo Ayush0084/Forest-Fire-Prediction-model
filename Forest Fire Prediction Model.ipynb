{
 "cells": [
  {
   "cell_type": "code",
   "execution_count": 5,
   "id": "8af5adfc",
   "metadata": {},
   "outputs": [],
   "source": [
    "# Installing Libraries: Importing modules from packages\n",
    "\n",
    "import numpy as np\n",
    "import pandas as pd\n",
    "import seaborn as sns\n",
    "import matplotlib.pyplot as plt\n",
    "from sklearn.tree import DecisionTreeClassifier\n",
    "from sklearn.model_selection import train_test_split\n",
    "from sklearn.metrics import classification_report, confusion_matrix\n",
    "from sklearn.ensemble import RandomForestClassifier\n",
    "from sklearn.neighbors import KNeighborsClassifier\n",
    "from sklearn.svm import SVC\n",
    "import sklearn.metrics as metrics\n",
    "from sklearn.preprocessing import StandardScaler\n",
    "from sklearn.linear_model import LogisticRegression\n",
    "from sklearn.metrics import accuracy_score, roc_auc_score\n",
    "import warnings\n",
    "\n"
   ]
  },
  {
   "cell_type": "code",
   "execution_count": 6,
   "id": "42796bbf",
   "metadata": {},
   "outputs": [
    {
     "data": {
      "text/html": [
       "<div>\n",
       "<style scoped>\n",
       "    .dataframe tbody tr th:only-of-type {\n",
       "        vertical-align: middle;\n",
       "    }\n",
       "\n",
       "    .dataframe tbody tr th {\n",
       "        vertical-align: top;\n",
       "    }\n",
       "\n",
       "    .dataframe thead th {\n",
       "        text-align: right;\n",
       "    }\n",
       "</style>\n",
       "<table border=\"1\" class=\"dataframe\">\n",
       "  <thead>\n",
       "    <tr style=\"text-align: right;\">\n",
       "      <th></th>\n",
       "      <th>NDVI</th>\n",
       "      <th>LST</th>\n",
       "      <th>BURNED_AREA</th>\n",
       "      <th>CLASS</th>\n",
       "    </tr>\n",
       "  </thead>\n",
       "  <tbody>\n",
       "    <tr>\n",
       "      <th>0</th>\n",
       "      <td>0.506782</td>\n",
       "      <td>14584.272727</td>\n",
       "      <td>4.692308</td>\n",
       "      <td>no_fire</td>\n",
       "    </tr>\n",
       "    <tr>\n",
       "      <th>1</th>\n",
       "      <td>0.522150</td>\n",
       "      <td>14655.833333</td>\n",
       "      <td>5.000000</td>\n",
       "      <td>no_fire</td>\n",
       "    </tr>\n",
       "    <tr>\n",
       "      <th>2</th>\n",
       "      <td>0.682284</td>\n",
       "      <td>14780.000000</td>\n",
       "      <td>5.000000</td>\n",
       "      <td>fire</td>\n",
       "    </tr>\n",
       "    <tr>\n",
       "      <th>3</th>\n",
       "      <td>0.120046</td>\n",
       "      <td>13298.500000</td>\n",
       "      <td>3.500000</td>\n",
       "      <td>no_fire</td>\n",
       "    </tr>\n",
       "    <tr>\n",
       "      <th>4</th>\n",
       "      <td>0.568734</td>\n",
       "      <td>14743.000000</td>\n",
       "      <td>5.000000</td>\n",
       "      <td>no_fire</td>\n",
       "    </tr>\n",
       "    <tr>\n",
       "      <th>...</th>\n",
       "      <td>...</td>\n",
       "      <td>...</td>\n",
       "      <td>...</td>\n",
       "      <td>...</td>\n",
       "    </tr>\n",
       "    <tr>\n",
       "      <th>1708</th>\n",
       "      <td>0.621721</td>\n",
       "      <td>14406.000000</td>\n",
       "      <td>5.000000</td>\n",
       "      <td>no_fire</td>\n",
       "    </tr>\n",
       "    <tr>\n",
       "      <th>1709</th>\n",
       "      <td>0.709715</td>\n",
       "      <td>14330.400000</td>\n",
       "      <td>4.851852</td>\n",
       "      <td>no_fire</td>\n",
       "    </tr>\n",
       "    <tr>\n",
       "      <th>1710</th>\n",
       "      <td>0.613000</td>\n",
       "      <td>14751.500000</td>\n",
       "      <td>3.000000</td>\n",
       "      <td>fire</td>\n",
       "    </tr>\n",
       "    <tr>\n",
       "      <th>1711</th>\n",
       "      <td>0.614471</td>\n",
       "      <td>13611.000000</td>\n",
       "      <td>4.921053</td>\n",
       "      <td>no_fire</td>\n",
       "    </tr>\n",
       "    <tr>\n",
       "      <th>1712</th>\n",
       "      <td>0.549497</td>\n",
       "      <td>14269.777778</td>\n",
       "      <td>5.000000</td>\n",
       "      <td>fire</td>\n",
       "    </tr>\n",
       "  </tbody>\n",
       "</table>\n",
       "<p>1713 rows × 4 columns</p>\n",
       "</div>"
      ],
      "text/plain": [
       "          NDVI           LST  BURNED_AREA    CLASS\n",
       "0     0.506782  14584.272727     4.692308  no_fire\n",
       "1     0.522150  14655.833333     5.000000  no_fire\n",
       "2     0.682284  14780.000000     5.000000     fire\n",
       "3     0.120046  13298.500000     3.500000  no_fire\n",
       "4     0.568734  14743.000000     5.000000  no_fire\n",
       "...        ...           ...          ...      ...\n",
       "1708  0.621721  14406.000000     5.000000  no_fire\n",
       "1709  0.709715  14330.400000     4.851852  no_fire\n",
       "1710  0.613000  14751.500000     3.000000     fire\n",
       "1711  0.614471  13611.000000     4.921053  no_fire\n",
       "1712  0.549497  14269.777778     5.000000     fire\n",
       "\n",
       "[1713 rows x 4 columns]"
      ]
     },
     "execution_count": 6,
     "metadata": {},
     "output_type": "execute_result"
    }
   ],
   "source": [
    "# Data Gathering: Importing the dataset \n",
    "\n",
    "data = pd.read_csv('E:\\Forest_Fire_Prediction_Data_Set.csv')\n",
    "data"
   ]
  },
  {
   "cell_type": "code",
   "execution_count": 7,
   "id": "07f3b508",
   "metadata": {},
   "outputs": [
    {
     "data": {
      "text/html": [
       "<div>\n",
       "<style scoped>\n",
       "    .dataframe tbody tr th:only-of-type {\n",
       "        vertical-align: middle;\n",
       "    }\n",
       "\n",
       "    .dataframe tbody tr th {\n",
       "        vertical-align: top;\n",
       "    }\n",
       "\n",
       "    .dataframe thead th {\n",
       "        text-align: right;\n",
       "    }\n",
       "</style>\n",
       "<table border=\"1\" class=\"dataframe\">\n",
       "  <thead>\n",
       "    <tr style=\"text-align: right;\">\n",
       "      <th></th>\n",
       "      <th>NDVI</th>\n",
       "      <th>LST</th>\n",
       "      <th>BURNED_AREA</th>\n",
       "      <th>CLASS</th>\n",
       "    </tr>\n",
       "  </thead>\n",
       "  <tbody>\n",
       "    <tr>\n",
       "      <th>0</th>\n",
       "      <td>0.506782</td>\n",
       "      <td>14584.272727</td>\n",
       "      <td>4.692308</td>\n",
       "      <td>no_fire</td>\n",
       "    </tr>\n",
       "    <tr>\n",
       "      <th>1</th>\n",
       "      <td>0.522150</td>\n",
       "      <td>14655.833333</td>\n",
       "      <td>5.000000</td>\n",
       "      <td>no_fire</td>\n",
       "    </tr>\n",
       "    <tr>\n",
       "      <th>2</th>\n",
       "      <td>0.682284</td>\n",
       "      <td>14780.000000</td>\n",
       "      <td>5.000000</td>\n",
       "      <td>fire</td>\n",
       "    </tr>\n",
       "    <tr>\n",
       "      <th>3</th>\n",
       "      <td>0.120046</td>\n",
       "      <td>13298.500000</td>\n",
       "      <td>3.500000</td>\n",
       "      <td>no_fire</td>\n",
       "    </tr>\n",
       "    <tr>\n",
       "      <th>4</th>\n",
       "      <td>0.568734</td>\n",
       "      <td>14743.000000</td>\n",
       "      <td>5.000000</td>\n",
       "      <td>no_fire</td>\n",
       "    </tr>\n",
       "  </tbody>\n",
       "</table>\n",
       "</div>"
      ],
      "text/plain": [
       "       NDVI           LST  BURNED_AREA    CLASS\n",
       "0  0.506782  14584.272727     4.692308  no_fire\n",
       "1  0.522150  14655.833333     5.000000  no_fire\n",
       "2  0.682284  14780.000000     5.000000     fire\n",
       "3  0.120046  13298.500000     3.500000  no_fire\n",
       "4  0.568734  14743.000000     5.000000  no_fire"
      ]
     },
     "execution_count": 7,
     "metadata": {},
     "output_type": "execute_result"
    }
   ],
   "source": [
    "# Data Exploration: Drawing insights from data\n",
    "\n",
    "data.head()"
   ]
  },
  {
   "cell_type": "code",
   "execution_count": 8,
   "id": "c75725f8",
   "metadata": {},
   "outputs": [
    {
     "data": {
      "text/plain": [
       "(1713, 4)"
      ]
     },
     "execution_count": 8,
     "metadata": {},
     "output_type": "execute_result"
    }
   ],
   "source": [
    "# Data Exploration: Determining the shape of dataset\n",
    "\n",
    "data.shape"
   ]
  },
  {
   "cell_type": "code",
   "execution_count": 9,
   "id": "927d4bc5",
   "metadata": {},
   "outputs": [
    {
     "data": {
      "text/html": [
       "<div>\n",
       "<style scoped>\n",
       "    .dataframe tbody tr th:only-of-type {\n",
       "        vertical-align: middle;\n",
       "    }\n",
       "\n",
       "    .dataframe tbody tr th {\n",
       "        vertical-align: top;\n",
       "    }\n",
       "\n",
       "    .dataframe thead th {\n",
       "        text-align: right;\n",
       "    }\n",
       "</style>\n",
       "<table border=\"1\" class=\"dataframe\">\n",
       "  <thead>\n",
       "    <tr style=\"text-align: right;\">\n",
       "      <th></th>\n",
       "      <th>NDVI</th>\n",
       "      <th>LST</th>\n",
       "      <th>BURNED_AREA</th>\n",
       "    </tr>\n",
       "  </thead>\n",
       "  <tbody>\n",
       "    <tr>\n",
       "      <th>count</th>\n",
       "      <td>1713.000000</td>\n",
       "      <td>1713.000000</td>\n",
       "      <td>1713.000000</td>\n",
       "    </tr>\n",
       "    <tr>\n",
       "      <th>mean</th>\n",
       "      <td>0.555665</td>\n",
       "      <td>14622.802073</td>\n",
       "      <td>4.674973</td>\n",
       "    </tr>\n",
       "    <tr>\n",
       "      <th>std</th>\n",
       "      <td>0.092847</td>\n",
       "      <td>366.927861</td>\n",
       "      <td>0.583791</td>\n",
       "    </tr>\n",
       "    <tr>\n",
       "      <th>min</th>\n",
       "      <td>0.030735</td>\n",
       "      <td>13137.000000</td>\n",
       "      <td>3.000000</td>\n",
       "    </tr>\n",
       "    <tr>\n",
       "      <th>25%</th>\n",
       "      <td>0.501276</td>\n",
       "      <td>14406.000000</td>\n",
       "      <td>4.521951</td>\n",
       "    </tr>\n",
       "    <tr>\n",
       "      <th>50%</th>\n",
       "      <td>0.565181</td>\n",
       "      <td>14645.750000</td>\n",
       "      <td>4.920635</td>\n",
       "    </tr>\n",
       "    <tr>\n",
       "      <th>75%</th>\n",
       "      <td>0.620987</td>\n",
       "      <td>14881.300000</td>\n",
       "      <td>5.000000</td>\n",
       "    </tr>\n",
       "    <tr>\n",
       "      <th>max</th>\n",
       "      <td>0.781723</td>\n",
       "      <td>15611.570513</td>\n",
       "      <td>9.000000</td>\n",
       "    </tr>\n",
       "  </tbody>\n",
       "</table>\n",
       "</div>"
      ],
      "text/plain": [
       "              NDVI           LST  BURNED_AREA\n",
       "count  1713.000000   1713.000000  1713.000000\n",
       "mean      0.555665  14622.802073     4.674973\n",
       "std       0.092847    366.927861     0.583791\n",
       "min       0.030735  13137.000000     3.000000\n",
       "25%       0.501276  14406.000000     4.521951\n",
       "50%       0.565181  14645.750000     4.920635\n",
       "75%       0.620987  14881.300000     5.000000\n",
       "max       0.781723  15611.570513     9.000000"
      ]
     },
     "execution_count": 9,
     "metadata": {},
     "output_type": "execute_result"
    }
   ],
   "source": [
    "# Data Exploration: Summarizing the data \n",
    "\n",
    "data.describe()"
   ]
  },
  {
   "cell_type": "code",
   "execution_count": 10,
   "id": "c786b235",
   "metadata": {},
   "outputs": [
    {
     "data": {
      "text/plain": [
       "Index(['NDVI', 'LST', 'BURNED_AREA', 'CLASS'], dtype='object')"
      ]
     },
     "execution_count": 10,
     "metadata": {},
     "output_type": "execute_result"
    }
   ],
   "source": [
    "data.columns"
   ]
  },
  {
   "cell_type": "code",
   "execution_count": 11,
   "id": "b5edcc22",
   "metadata": {},
   "outputs": [
    {
     "name": "stdout",
     "output_type": "stream",
     "text": [
      "<class 'pandas.core.frame.DataFrame'>\n",
      "RangeIndex: 1713 entries, 0 to 1712\n",
      "Data columns (total 4 columns):\n",
      " #   Column       Non-Null Count  Dtype  \n",
      "---  ------       --------------  -----  \n",
      " 0   NDVI         1713 non-null   float64\n",
      " 1   LST          1713 non-null   float64\n",
      " 2   BURNED_AREA  1713 non-null   float64\n",
      " 3   CLASS        1713 non-null   object \n",
      "dtypes: float64(3), object(1)\n",
      "memory usage: 53.7+ KB\n"
     ]
    }
   ],
   "source": [
    "# Data Cleaning: Checking for missing values\n",
    "\n",
    "data.info() "
   ]
  },
  {
   "cell_type": "code",
   "execution_count": 12,
   "id": "f85114d0",
   "metadata": {},
   "outputs": [
    {
     "data": {
      "text/html": [
       "<div>\n",
       "<style scoped>\n",
       "    .dataframe tbody tr th:only-of-type {\n",
       "        vertical-align: middle;\n",
       "    }\n",
       "\n",
       "    .dataframe tbody tr th {\n",
       "        vertical-align: top;\n",
       "    }\n",
       "\n",
       "    .dataframe thead th {\n",
       "        text-align: right;\n",
       "    }\n",
       "</style>\n",
       "<table border=\"1\" class=\"dataframe\">\n",
       "  <thead>\n",
       "    <tr style=\"text-align: right;\">\n",
       "      <th></th>\n",
       "      <th>NDVI</th>\n",
       "      <th>LST</th>\n",
       "      <th>BURNED_AREA</th>\n",
       "      <th>CLASS</th>\n",
       "    </tr>\n",
       "  </thead>\n",
       "  <tbody>\n",
       "    <tr>\n",
       "      <th>1708</th>\n",
       "      <td>0.621721</td>\n",
       "      <td>14406.000000</td>\n",
       "      <td>5.000000</td>\n",
       "      <td>0</td>\n",
       "    </tr>\n",
       "    <tr>\n",
       "      <th>1709</th>\n",
       "      <td>0.709715</td>\n",
       "      <td>14330.400000</td>\n",
       "      <td>4.851852</td>\n",
       "      <td>0</td>\n",
       "    </tr>\n",
       "    <tr>\n",
       "      <th>1710</th>\n",
       "      <td>0.613000</td>\n",
       "      <td>14751.500000</td>\n",
       "      <td>3.000000</td>\n",
       "      <td>1</td>\n",
       "    </tr>\n",
       "    <tr>\n",
       "      <th>1711</th>\n",
       "      <td>0.614471</td>\n",
       "      <td>13611.000000</td>\n",
       "      <td>4.921053</td>\n",
       "      <td>0</td>\n",
       "    </tr>\n",
       "    <tr>\n",
       "      <th>1712</th>\n",
       "      <td>0.549497</td>\n",
       "      <td>14269.777778</td>\n",
       "      <td>5.000000</td>\n",
       "      <td>1</td>\n",
       "    </tr>\n",
       "  </tbody>\n",
       "</table>\n",
       "</div>"
      ],
      "text/plain": [
       "          NDVI           LST  BURNED_AREA  CLASS\n",
       "1708  0.621721  14406.000000     5.000000      0\n",
       "1709  0.709715  14330.400000     4.851852      0\n",
       "1710  0.613000  14751.500000     3.000000      1\n",
       "1711  0.614471  13611.000000     4.921053      0\n",
       "1712  0.549497  14269.777778     5.000000      1"
      ]
     },
     "execution_count": 12,
     "metadata": {},
     "output_type": "execute_result"
    }
   ],
   "source": [
    "# Data Pre-Processing: \n",
    "#  CLASS  FIRE -> 1\n",
    "#  CLASS  NO_FIRE -> 0\n",
    "\n",
    "data[\"CLASS\"] = [1 if i==\"fire\" else 0 for i in data[\"CLASS\"]]\n",
    "data.tail(5)"
   ]
  },
  {
   "cell_type": "code",
   "execution_count": 13,
   "id": "da517238",
   "metadata": {},
   "outputs": [
    {
     "data": {
      "text/plain": [
       "NDVI          -0.127044\n",
       "LST            0.287230\n",
       "BURNED_AREA    0.080991\n",
       "CLASS          1.000000\n",
       "Name: CLASS, dtype: float64"
      ]
     },
     "execution_count": 13,
     "metadata": {},
     "output_type": "execute_result"
    }
   ],
   "source": [
    "# Data Exploration: Correlation between NDVI,LST,BURNED_AREA and CLASS\n",
    "corel =data.corr()\n",
    "corel[\"CLASS\"]"
   ]
  },
  {
   "cell_type": "code",
   "execution_count": 14,
   "id": "f3a4607e",
   "metadata": {},
   "outputs": [
    {
     "data": {
      "image/png": "[encoded data removed]",
      "text/plain": [
       "<Figure size 720x720 with 2 Axes>"
      ]
     },
     "metadata": {
      "needs_background": "light"
     },
     "output_type": "display_data"
    }
   ],
   "source": [
    "# Data Exploration: Visualizing Heatmap\n",
    "\n",
    "plt.figure(figsize=(10,10))\n",
    "dataplot = sns.heatmap(corel, annot = True, fmt='.2g', mask = np.triu(corel),cmap= 'coolwarm',cbar_kws= {'orientation': 'horizontal'})\n",
    "plt.show()"
   ]
  },
  {
   "cell_type": "code",
   "execution_count": 15,
   "id": "b8801861",
   "metadata": {},
   "outputs": [],
   "source": [
    "# Dividing the dataset into dependent and independent variables\n",
    "\n",
    "x = data.iloc[:,0:3]\n",
    "y = data.iloc[:,-1]\n",
    "x_train, x_test, y_train, y_test = train_test_split(x, y, test_size = 0.20, random_state = 42)"
   ]
  },
  {
   "cell_type": "code",
   "execution_count": 16,
   "id": "a6f762bf",
   "metadata": {},
   "outputs": [
    {
     "data": {
      "text/html": [
       "<div>\n",
       "<style scoped>\n",
       "    .dataframe tbody tr th:only-of-type {\n",
       "        vertical-align: middle;\n",
       "    }\n",
       "\n",
       "    .dataframe tbody tr th {\n",
       "        vertical-align: top;\n",
       "    }\n",
       "\n",
       "    .dataframe thead th {\n",
       "        text-align: right;\n",
       "    }\n",
       "</style>\n",
       "<table border=\"1\" class=\"dataframe\">\n",
       "  <thead>\n",
       "    <tr style=\"text-align: right;\">\n",
       "      <th></th>\n",
       "      <th>NDVI</th>\n",
       "      <th>LST</th>\n",
       "      <th>BURNED_AREA</th>\n",
       "    </tr>\n",
       "  </thead>\n",
       "  <tbody>\n",
       "    <tr>\n",
       "      <th>408</th>\n",
       "      <td>0.491819</td>\n",
       "      <td>13948.584071</td>\n",
       "      <td>4.796814</td>\n",
       "    </tr>\n",
       "    <tr>\n",
       "      <th>1357</th>\n",
       "      <td>0.631937</td>\n",
       "      <td>14818.737973</td>\n",
       "      <td>4.542922</td>\n",
       "    </tr>\n",
       "    <tr>\n",
       "      <th>518</th>\n",
       "      <td>0.538733</td>\n",
       "      <td>14259.000000</td>\n",
       "      <td>5.000000</td>\n",
       "    </tr>\n",
       "    <tr>\n",
       "      <th>1111</th>\n",
       "      <td>0.580911</td>\n",
       "      <td>15018.568627</td>\n",
       "      <td>4.686275</td>\n",
       "    </tr>\n",
       "    <tr>\n",
       "      <th>538</th>\n",
       "      <td>0.516076</td>\n",
       "      <td>13967.000000</td>\n",
       "      <td>5.000000</td>\n",
       "    </tr>\n",
       "    <tr>\n",
       "      <th>...</th>\n",
       "      <td>...</td>\n",
       "      <td>...</td>\n",
       "      <td>...</td>\n",
       "    </tr>\n",
       "    <tr>\n",
       "      <th>1130</th>\n",
       "      <td>0.625392</td>\n",
       "      <td>14394.000000</td>\n",
       "      <td>3.500000</td>\n",
       "    </tr>\n",
       "    <tr>\n",
       "      <th>1294</th>\n",
       "      <td>0.641129</td>\n",
       "      <td>14329.500000</td>\n",
       "      <td>3.000000</td>\n",
       "    </tr>\n",
       "    <tr>\n",
       "      <th>860</th>\n",
       "      <td>0.636775</td>\n",
       "      <td>14821.750000</td>\n",
       "      <td>5.000000</td>\n",
       "    </tr>\n",
       "    <tr>\n",
       "      <th>1459</th>\n",
       "      <td>0.380665</td>\n",
       "      <td>14305.000000</td>\n",
       "      <td>4.583333</td>\n",
       "    </tr>\n",
       "    <tr>\n",
       "      <th>1126</th>\n",
       "      <td>0.615228</td>\n",
       "      <td>14650.705357</td>\n",
       "      <td>4.661202</td>\n",
       "    </tr>\n",
       "  </tbody>\n",
       "</table>\n",
       "<p>1370 rows × 3 columns</p>\n",
       "</div>"
      ],
      "text/plain": [
       "          NDVI           LST  BURNED_AREA\n",
       "408   0.491819  13948.584071     4.796814\n",
       "1357  0.631937  14818.737973     4.542922\n",
       "518   0.538733  14259.000000     5.000000\n",
       "1111  0.580911  15018.568627     4.686275\n",
       "538   0.516076  13967.000000     5.000000\n",
       "...        ...           ...          ...\n",
       "1130  0.625392  14394.000000     3.500000\n",
       "1294  0.641129  14329.500000     3.000000\n",
       "860   0.636775  14821.750000     5.000000\n",
       "1459  0.380665  14305.000000     4.583333\n",
       "1126  0.615228  14650.705357     4.661202\n",
       "\n",
       "[1370 rows x 3 columns]"
      ]
     },
     "execution_count": 16,
     "metadata": {},
     "output_type": "execute_result"
    }
   ],
   "source": [
    "x_train"
   ]
  },
  {
   "cell_type": "code",
   "execution_count": 17,
   "id": "df9b8eea",
   "metadata": {},
   "outputs": [
    {
     "data": {
      "text/plain": [
       "0       0\n",
       "1       0\n",
       "2       1\n",
       "3       0\n",
       "4       0\n",
       "       ..\n",
       "1708    0\n",
       "1709    0\n",
       "1710    1\n",
       "1711    0\n",
       "1712    1\n",
       "Name: CLASS, Length: 1713, dtype: int64"
      ]
     },
     "execution_count": 17,
     "metadata": {},
     "output_type": "execute_result"
    }
   ],
   "source": [
    "y"
   ]
  },
  {
   "cell_type": "code",
   "execution_count": 18,
   "id": "95f3f4a4",
   "metadata": {},
   "outputs": [],
   "source": [
    "# Standard Scaling: Scaling the data for optimised predictions \n",
    "\n",
    "sc = StandardScaler()\n",
    "x_train = sc.fit_transform(x_train)\n",
    "x_test = sc.fit_transform(x_test)"
   ]
  },
  {
   "cell_type": "code",
   "execution_count": 19,
   "id": "64468a6e",
   "metadata": {},
   "outputs": [
    {
     "data": {
      "text/plain": [
       "array([[-0.68118448, -1.85282269,  0.21436509],\n",
       "       [ 0.82835339,  0.53392558, -0.21750274],\n",
       "       [-0.17576433, -1.00138172,  0.55998251],\n",
       "       ...,\n",
       "       [ 0.88047478,  0.54218728,  0.55998251],\n",
       "       [-1.87868353, -0.87520816, -0.14876402],\n",
       "       [ 0.64834177,  0.07302831, -0.01630961]])"
      ]
     },
     "execution_count": 19,
     "metadata": {},
     "output_type": "execute_result"
    }
   ],
   "source": [
    "x_train"
   ]
  },
  {
   "cell_type": "code",
   "execution_count": 20,
   "id": "c20021c5",
   "metadata": {},
   "outputs": [
    {
     "name": "stdout",
     "output_type": "stream",
     "text": [
      "              precision    recall  f1-score   support\n",
      "\n",
      "           0       0.86      0.83      0.84       275\n",
      "           1       0.40      0.46      0.42        68\n",
      "\n",
      "    accuracy                           0.76       343\n",
      "   macro avg       0.63      0.64      0.63       343\n",
      "weighted avg       0.77      0.76      0.76       343\n",
      "\n"
     ]
    }
   ],
   "source": [
    "# Decision Tree Algorithm\n",
    "dtc = DecisionTreeClassifier()\n",
    "dtc.fit(x_train, y_train)\n",
    "pred_dtc = dtc.predict(x_test)\n",
    "print(classification_report(y_test, pred_dtc))"
   ]
  },
  {
   "cell_type": "code",
   "execution_count": 21,
   "id": "a7169dc6",
   "metadata": {},
   "outputs": [
    {
     "name": "stdout",
     "output_type": "stream",
     "text": [
      "              precision    recall  f1-score   support\n",
      "\n",
      "           0       0.86      0.95      0.91       275\n",
      "           1       0.67      0.38      0.49        68\n",
      "\n",
      "    accuracy                           0.84       343\n",
      "   macro avg       0.76      0.67      0.70       343\n",
      "weighted avg       0.82      0.84      0.82       343\n",
      "\n"
     ]
    }
   ],
   "source": [
    "# Creating the model\n",
    "rfc = RandomForestClassifier(n_estimators = 250,oob_score = True)\n",
    "\n",
    "# Feeding the training set into the model\n",
    "rfc.fit(x_train, y_train)\n",
    "\n",
    "# Predicting the results for the test set\n",
    "pred_rfc = rfc.predict(x_test)\n",
    "\n",
    "print(classification_report(y_test, pred_rfc))"
   ]
  },
  {
   "cell_type": "code",
   "execution_count": 22,
   "id": "2d4ff603",
   "metadata": {},
   "outputs": [
    {
     "name": "stdout",
     "output_type": "stream",
     "text": [
      "              precision    recall  f1-score   support\n",
      "\n",
      "           0       0.86      0.92      0.89       275\n",
      "           1       0.55      0.40      0.46        68\n",
      "\n",
      "    accuracy                           0.82       343\n",
      "   macro avg       0.71      0.66      0.68       343\n",
      "weighted avg       0.80      0.82      0.80       343\n",
      "\n"
     ]
    }
   ],
   "source": [
    "# K-Nearest Neighbor Algorithm\n",
    "knn = KNeighborsClassifier()\n",
    "knn.fit(x_train,y_train)\n",
    "pred_knn=knn.predict(x_test)\n",
    "print(classification_report(y_test, pred_knn))"
   ]
  },
  {
   "cell_type": "code",
   "execution_count": 23,
   "id": "5dbc2398",
   "metadata": {},
   "outputs": [
    {
     "name": "stdout",
     "output_type": "stream",
     "text": [
      "              precision    recall  f1-score   support\n",
      "\n",
      "           0       0.81      0.99      0.89       275\n",
      "           1       0.50      0.06      0.11        68\n",
      "\n",
      "    accuracy                           0.80       343\n",
      "   macro avg       0.65      0.52      0.50       343\n",
      "weighted avg       0.75      0.80      0.73       343\n",
      "\n"
     ]
    }
   ],
   "source": [
    "# Support Vector Machine Algorithm\n",
    "svc = SVC()\n",
    "svc.fit(x_train, y_train)\n",
    "pred_svc = svc.predict(x_test)\n",
    "print(classification_report(y_test, pred_svc))"
   ]
  },
  {
   "cell_type": "code",
   "execution_count": 24,
   "id": "a3950166",
   "metadata": {},
   "outputs": [
    {
     "name": "stdout",
     "output_type": "stream",
     "text": [
      "              precision    recall  f1-score   support\n",
      "\n",
      "           0       0.81      0.96      0.88       275\n",
      "           1       0.31      0.07      0.12        68\n",
      "\n",
      "    accuracy                           0.78       343\n",
      "   macro avg       0.56      0.52      0.50       343\n",
      "weighted avg       0.71      0.78      0.73       343\n",
      "\n"
     ]
    }
   ],
   "source": [
    "# Logistic Regression Algorithm\n",
    "lor = LogisticRegression()\n",
    "lor.fit(x_train, y_train)\n",
    "pred_lor = lor.predict(x_test)\n",
    "print(classification_report(y_test, pred_lor))"
   ]
  },
  {
   "cell_type": "code",
   "execution_count": 25,
   "id": "6caed4bb",
   "metadata": {},
   "outputs": [
    {
     "data": {
      "text/html": [
       "<div>\n",
       "<style scoped>\n",
       "    .dataframe tbody tr th:only-of-type {\n",
       "        vertical-align: middle;\n",
       "    }\n",
       "\n",
       "    .dataframe tbody tr th {\n",
       "        vertical-align: top;\n",
       "    }\n",
       "\n",
       "    .dataframe thead th {\n",
       "        text-align: right;\n",
       "    }\n",
       "</style>\n",
       "<table border=\"1\" class=\"dataframe\">\n",
       "  <thead>\n",
       "    <tr style=\"text-align: right;\">\n",
       "      <th></th>\n",
       "      <th>Model</th>\n",
       "      <th>Accuracy</th>\n",
       "    </tr>\n",
       "  </thead>\n",
       "  <tbody>\n",
       "    <tr>\n",
       "      <th>0</th>\n",
       "      <td>Random Forest</td>\n",
       "      <td>0.839650</td>\n",
       "    </tr>\n",
       "    <tr>\n",
       "      <th>1</th>\n",
       "      <td>K-Nearest Neighbors</td>\n",
       "      <td>0.816327</td>\n",
       "    </tr>\n",
       "    <tr>\n",
       "      <th>2</th>\n",
       "      <td>Logistic Regression</td>\n",
       "      <td>0.784257</td>\n",
       "    </tr>\n",
       "    <tr>\n",
       "      <th>3</th>\n",
       "      <td>Decision Tree</td>\n",
       "      <td>0.755102</td>\n",
       "    </tr>\n",
       "    <tr>\n",
       "      <th>4</th>\n",
       "      <td>Support Vector Machine</td>\n",
       "      <td>0.801749</td>\n",
       "    </tr>\n",
       "  </tbody>\n",
       "</table>\n",
       "</div>"
      ],
      "text/plain": [
       "                    Model  Accuracy\n",
       "0           Random Forest  0.839650\n",
       "1     K-Nearest Neighbors  0.816327\n",
       "2     Logistic Regression  0.784257\n",
       "3           Decision Tree  0.755102\n",
       "4  Support Vector Machine  0.801749"
      ]
     },
     "execution_count": 25,
     "metadata": {},
     "output_type": "execute_result"
    }
   ],
   "source": [
    "# Conclusion: Comparing the results!\n",
    "\n",
    "conclusion = pd.DataFrame({'Model': [\"Random Forest\",\"K-Nearest Neighbors\",\"Logistic Regression\",\"Decision Tree\",\"Support Vector Machine\"],\n",
    "                           'Accuracy': [accuracy_score(y_test,pred_rfc),accuracy_score(y_test,pred_knn),\n",
    "                                    accuracy_score(y_test,pred_lor),accuracy_score(y_test,pred_dtc),accuracy_score(y_test,pred_svc)]})\n",
    "conclusion"
   ]
  },
  {
   "cell_type": "code",
   "execution_count": 26,
   "id": "9797dec1",
   "metadata": {},
   "outputs": [
    {
     "data": {
      "image/png": "[encoded data removed]",
      "text/plain": [
       "<Figure size 720x360 with 1 Axes>"
      ]
     },
     "metadata": {
      "needs_background": "light"
     },
     "output_type": "display_data"
    }
   ],
   "source": [
    "# Visualizing Results\n",
    "\n",
    "plt.subplots(figsize=(10, 5))\n",
    "axis = sns.barplot(x = 'Model', y = 'Accuracy', data =conclusion, palette=\"mako\" )\n",
    "axis.set(xlabel='Model', ylabel='Accuracy')\n",
    "\n",
    "# Adding annotation to bars\n",
    "for p in axis.patches:\n",
    "    height = p.get_height()\n",
    "    axis.text(p.get_x() + p.get_width()/2, height + 0.005, '{:1.4f}'.format(height), ha=\"center\") \n",
    "    \n",
    "plt.show()"
   ]
  },
  {
   "cell_type": "code",
   "execution_count": null,
   "id": "858a4a4c",
   "metadata": {},
   "outputs": [],
   "source": []
  }
 ],
 "metadata": {
  "kernelspec": {
   "display_name": "Python 3 (ipykernel)",
   "language": "python",
   "name": "python3"
  },
  "language_info": {
   "codemirror_mode": {
    "name": "ipython",
    "version": 3
   },
   "file_extension": ".py",
   "mimetype": "text/x-python",
   "name": "python",
   "nbconvert_exporter": "python",
   "pygments_lexer": "ipython3",
   "version": "3.9.6"
  }
 },
 "nbformat": 4,
 "nbformat_minor": 5
}
